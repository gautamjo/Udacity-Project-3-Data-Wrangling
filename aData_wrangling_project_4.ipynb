{
 "cells": [
  {
   "cell_type": "code",
   "execution_count": 1,
   "metadata": {},
   "outputs": [
    {
     "data": {
      "text/html": [
       "<script>\n",
       "code_show=true; \n",
       "function code_toggle() {\n",
       " if (code_show){\n",
       " $('div.input').hide();\n",
       " } else {\n",
       " $('div.input').show();\n",
       " }\n",
       " code_show = !code_show\n",
       "} \n",
       "$( document ).ready(code_toggle);\n",
       "</script>\n",
       "<form action=\"javascript:code_toggle()\"><input type=\"submit\" value=\"Click here to toggle on/off the raw code.\"></form>"
      ],
      "text/plain": [
       "<IPython.core.display.HTML object>"
      ]
     },
     "execution_count": 1,
     "metadata": {},
     "output_type": "execute_result"
    }
   ],
   "source": [
    "from IPython.display import HTML\n",
    "\n",
    "HTML('''<script>\n",
    "code_show=true; \n",
    "function code_toggle() {\n",
    " if (code_show){\n",
    " $('div.input').hide();\n",
    " } else {\n",
    " $('div.input').show();\n",
    " }\n",
    " code_show = !code_show\n",
    "} \n",
    "$( document ).ready(code_toggle);\n",
    "</script>\n",
    "<form action=\"javascript:code_toggle()\"><input type=\"submit\" value=\"Click here to toggle on/off the raw code.\"></form>''')"
   ]
  },
  {
   "cell_type": "markdown",
   "metadata": {},
   "source": [
    "<h1 style=\"color:indigo;\"> <font face=\"Georgia, serif\">Project 4: Wrangle OpenStreetMap Data</font></h1>\n",
    "<p style=\"color:darkolivegreen\"><font face=\"Georgia, serif\"> This is the fourth project in the Udacity Nano Degree Data Analyst Program</font></p>"
   ]
  },
  {
   "cell_type": "markdown",
   "metadata": {},
   "source": [
    "<font face= \"Georgia, serif\" style= \"color:mediumvioletred\"><h3>What Is OpenStreetMap?</h3></font>\n",
    "<font face= \"Georgia, serif\", style=\"color: darkslateblue\"><p>The OpenStreetMap is an open initiative to create and provide free geographic data such as street maps to anyone who wants them. It is supported by the OpenStreetMap Foundation which is a UK-registered not-for-profit organization. Currently, OpenStreetMap has an active base of over two million volunteers all across the globe.</p></font>\n",
    "\n",
    "<h3 style= \"color:mediumvioletred\"><font face=\"Georgia, serif\">Project Overview</font></h3><font face= \"Georgia, serif\"><p style=\"color: darkslateblue\">The project requires me to choose any area of the world in https://www.openstreetmap.org and use data munging techniques, such as assessing the quality of the data for validity, accuracy, completeness, consistency and uniformity, to clean the data of the area I have chosen. Finally, choose either MongoDB or SQL as the data schema to finish the project.</p></font>\n",
    "\n",
    "<font face=\"Gergia, serif\"><h4 style=\"color: mediumvioletred\">Chosen Area:</h4></font> \n",
    "<font face= \"Georgia, serif\"><p style=\"color: darkslateblue\">New Delhi, National Capital of India</p></font>\n",
    "\n",
    "<font face= \"Georgia, serif\" font size=\"1px\"><p style=\"color: darkslateblue\">Explore The Union Territory Of New Delhi, India With An Interactive Map, Courtesy https://developer.mapquest.com.<p></font>"
   ]
  },
  {
   "cell_type": "code",
   "execution_count": 1,
   "metadata": {},
   "outputs": [
    {
     "data": {
      "text/html": [
       "\n",
       "        <iframe\n",
       "            width=\"600\"\n",
       "            height=\"400\"\n",
       "            src=\"maps_quest.html\"\n",
       "            frameborder=\"0\"\n",
       "            allowfullscreen\n",
       "        ></iframe>\n",
       "        "
      ],
      "text/plain": [
       "<IPython.lib.display.IFrame at 0x10f30bd30>"
      ]
     },
     "execution_count": 1,
     "metadata": {},
     "output_type": "execute_result"
    }
   ],
   "source": [
    "# Interactive map of New Delhi\n",
    "from IPython.display import IFrame\n",
    "IFrame('maps_quest.html', width=600, height=400)\n",
    "# Run cell if map not visible"
   ]
  },
  {
   "cell_type": "code",
   "execution_count": 3,
   "metadata": {},
   "outputs": [],
   "source": [
    "import pymongo\n",
    "from pymongo import MongoClient\n",
    "import matplotlib.pyplot as plt\n",
    "import seaborn as sns\n",
    "import pandas as pd\n",
    "from count_tags import count_tags\n",
    "from print_a_table import get_filesize\n",
    "from print_a_table import convert_bytes\n",
    "from print_a_table import pt_table\n",
    "from prettytable import PrettyTable as PT"
   ]
  },
  {
   "cell_type": "markdown",
   "metadata": {},
   "source": [
    "<font face=\"Georgia, serif\"><h4 style=\"color: #663399\">Early Observations</h4></font>\n",
    "\n",
    "<font face=\"Georgia, serif\" style=\"color: darkcyan\">After getting my hands on the data, the first thing I did was to extract a sample from the original file I had downloaded. I wanted to explore the data and get familiar with it. Doing so with a smaller file was way more efficient. As the project required that I work on a file not less than 50MB, I had to make sure my sample doesn't fall below that limit. The code to extract a sample XML file can be found <a href= \"make_sample.py\">here</a>. I wanted to document the file size in the notebook. So, I wrote a small function that could print the file size in a tabular format. That code is <a href=\"print_a_table.py\">here</a>. In the cell below, you can see the file sizes of both the original and the sample file.</font>  "
   ]
  },
  {
   "cell_type": "code",
   "execution_count": 3,
   "metadata": {},
   "outputs": [
    {
     "name": "stdout",
     "output_type": "stream",
     "text": [
      "+----------+----------+\n",
      "|   FILE   |   SIZE   |\n",
      "+----------+----------+\n",
      "| Original | 716.5 MB |\n",
      "|  Sample  | 72.4 MB  |\n",
      "+----------+----------+\n"
     ]
    }
   ],
   "source": [
    "# checking the size of both the original and the sample OSM\n",
    "filesize = get_filesize(\"new-delhi_india.osm\") # file size in bytes\n",
    "samplesize = get_filesize(\"new_delhi_sample.osm\")\n",
    "table = PT(field_names=['File', 'Size'], header_style='upper')\n",
    "table.add_row(['Original', convert_bytes(filesize)]) # file size converted to MB \n",
    "table.add_row(['Sample', convert_bytes(samplesize)])\n",
    "print(table)\n",
    "# the sample file size meets the requirement quite comfortably"
   ]
  },
  {
   "cell_type": "markdown",
   "metadata": {},
   "source": [
    "<font face=\"Georgia, serif\" style=\"color: darkcyan\">After I had the sample file in place, I wanted to know things about the data right off the bat. The first thing I checked was the number of tags the XML file had. The code that counted the tags in the file is <a href=\"count_tags.py\">here</a>. </font>"
   ]
  },
  {
   "cell_type": "code",
   "execution_count": 4,
   "metadata": {},
   "outputs": [
    {
     "name": "stdout",
     "output_type": "stream",
     "text": [
      "+----------+--------+\n",
      "| ELEMENTS | COUNT  |\n",
      "+----------+--------+\n",
      "|   osm    |   1    |\n",
      "| relation |  619   |\n",
      "|  member  |  2795  |\n",
      "|   way    | 69426  |\n",
      "|   tag    | 82169  |\n",
      "|   node   | 340762 |\n",
      "|    nd    | 421392 |\n",
      "+----------+--------+\n"
     ]
    }
   ],
   "source": [
    "# checking number of tags in the sample file\n",
    "sample_file = \"new_delhi_sample.osm\" \n",
    "items = count_tags(sample_file)\n",
    "pt_table(['Elements', 'Count'], items)"
   ]
  },
  {
   "cell_type": "markdown",
   "metadata": {},
   "source": [
    "<font face=\"Georgia, serif\" style=\"color: darkcyan\"> The next thing I explored in the dataset was the top level tags. These tags contained attributes like <code style=\"color: green\">'id', 'lat', 'lon', 'user', 'uid', 'version', 'changeset', 'timestamp'</code>. The<code style=\"color: green\"> \"uid\" </code>attribute consisted of a unique id number of every contributor who had worked on this dataset. I thought, it would be nice to know the count of such unique users. With the help of this <a href=\"uniq_users.py\">code</a> I was able to do so. The actual count of unique users in the sample dataset is printed in the cell below.</font>"
   ]
  },
  {
   "cell_type": "code",
   "execution_count": 5,
   "metadata": {},
   "outputs": [
    {
     "name": "stdout",
     "output_type": "stream",
     "text": [
      "Number of unique users: 824\n"
     ]
    }
   ],
   "source": [
    "# checking no. of unique users invovled in editing the map\n",
    "from uniq_users import test\n",
    "test(sample_file)"
   ]
  },
  {
   "cell_type": "markdown",
   "metadata": {},
   "source": [
    "<font face= \"Georgia, serif\" style=\"color: darkcyan\">Next, I went on to explore the second level tags. Iterating over the attributes of the second level tags gave a dictionary. This dictionary contained keys <code style=\"color: green\">\"k\" </code>and <code style=\"color: green\">\"v\"</code>. The key <code style=\"color: green\">\"k\"</code> contained values with colons like <code style=\"color: green\">\"addr:street\" </code>or <code style=\"color: green\">\"addr:postcode\" </code>or just simple lower cased values like <code style=\"color: green\">\"phone\"</code>. I took a count of those values with this <a href=\"key_type.py\">code</a>. The result of the count is printed below.</font>"
   ]
  },
  {
   "cell_type": "code",
   "execution_count": 6,
   "metadata": {},
   "outputs": [
    {
     "name": "stdout",
     "output_type": "stream",
     "text": [
      "+-------+-------------+--------------+-------+\n",
      "| LOWER | LOWER_COLON | PROBLEMCHARS | OTHER |\n",
      "+-------+-------------+--------------+-------+\n",
      "| 80541 |     1590    |      0       |   38  |\n",
      "+-------+-------------+--------------+-------+\n"
     ]
    }
   ],
   "source": [
    "from key_type import process_map\n",
    "# checking values that \"k\" attribute contains. \n",
    "items = process_map(sample_file)\n",
    "pt_table(items.keys(), [items.values()])"
   ]
  },
  {
   "cell_type": "markdown",
   "metadata": {},
   "source": [
    "<font face= \"Georgia, serif\" style=\"color: darkcyan\">In order to understand the dataset better, I examined it from various aspects. This allowed me later to write codes that helped manipulate and reshape the dataset according to the requirements of the project. If you are interested in knowing how I derived at the codes for this project, this link <a href=\"data_wrangling_project_4_notes.ipynb\"> data_wrangling_project_4_notes.ipynb </a> will give you access to the notes I wrote while preparing for this project. Although, I have tried to explain what is happening in codes through comments but I must still warn you that these notes are quite tedious and in many places lack any proper order.</font>"
   ]
  },
  {
   "cell_type": "markdown",
   "metadata": {},
   "source": [
    "<font face=\"Georgia, serif\" style=\"color: darkgreen;\">The New Delhi OSM dataset was quite nicely maintained, nonetheless, there were some minor problem with it here and there. Let me take you through a step by step process of introducing you to those problems and how I was able to resolve them.</font>\n",
    "\n",
    "<font face=\"Georgia, serif\"><h4 style=\"color: red;\">Problems Encountered</h4>\n",
    "<font face=\"Georgia, serif\" style=\"color: darkgreen;\">In this dataset, I was primarily concerned with three main problems I observed. The first problem was with the street names. Street addresses contained misspellings, inconsistent hyphenation (-), mixed casing and inconsistent use of abbrevation. Some examples of such problems are:<ul><code style=\"color: indigo\"><li>Roman Numerals -> South City II</li><li>Lower Casing   -> janakpuri</li><li>Mixed Casing   -> Shiv Arcade,aacharya niketan,mayor vihar ph-1</li><li>Misspelling    -> Pahargan</li><li>Hyhpen         -> Phi-02</li></code></ul></font>"
   ]
  },
  {
   "cell_type": "markdown",
   "metadata": {},
   "source": [
    "<font face=\"Georgia, serif\" style=\"color: darkgreen;\">The second problem I ran into was of invalid pin code entries in some places. In NCR Delhi, a valid pin code has 6 digits. However, some pin codes in the dataset had more than 6 digits or whitespaces or typos. Here are some examples of errors I found related to pin codes:<ul><code style=\"color: indigo\"><li>100006</li><li>1100002</li><li>2013010</li><li>110 021</li></code></ul></font>"
   ]
  },
  {
   "cell_type": "markdown",
   "metadata": {},
   "source": [
    "<font face=\"Georgia, serif\" style=\"color: darkgreen;\">The last problem was with phone numbers. The phone numbers themselves were entered correctly, that is, they had valid 10 and 8 digits with proper area codes. But, they had inconsistent whitespaces and hyphenation. Some examples of irregualar phone numbers are:<ul><code style=\"color: indigo\"><li>+91 11 3955 5000</li><li>91-11-2687-6564</li><li>+91 9958080618</li><li>0120 252 0242</li></code></ul></font>"
   ]
  },
  {
   "cell_type": "markdown",
   "metadata": {},
   "source": [
    "<font face=\"Georgia, serif\"><h4 style=\"color: crimson\">Audit Strategy</h4></font><font face=\"Georgia, serif\" style=\"color: darkcyan\">All the three problems I encountered in the dataset were quite distinct from one another. So, my thought process was quite straight forward: handle every problem independently while keeping the solutions as simple as possible.</font>\n",
    "\n",
    "<font face=\"Georgia, serif\"><h4 style=\"color: crimson\">Normalising Street Names:</h4></font><font face=\"Georgia, serif\" style=\"color: darkcyan\">Fixing street names was a three step process:<ol><li>Confrim it is a street name</li> <li>Check the last word of the street name. If that word exists in an expected list of street names, let it pass. If not, send it for updation</li> <li>Substitute the incorrect street name with the correct one</li></ol></font>\n",
    "\n",
    "<p><font face=\"Georgia, serif\" style=\"color: darkcyan\">All the disparate pieces of the code requied to make this process work can be found <a href=\"mapping.py\">here</a> (Mapping), <a href=\"audit_street_type.py\">here</a> (audit street types) and <a href=\"update_street_name.py\">here </a> (update street type). I was able to successfully update street names by passing the data through these codes.<ul><li><code style=\"color: indigo\">South City II --> South City 2</code></li><li><code style=\"color: indigo\">Phi-02 --> Phi 02</code></li><li><code style=\"color: indigo\">Shiv Arcade,aacharya niketan,mayor vihar ph-1 --> Shiv Arcade,Aacharya Niketan,Mayor Vihar Ph 1</code></li><li><code style=\"color: indigo\">Pahargan --> Paharganj</code></li></ul></font></p>\n",
    "\n",
    "<font face=\"Georgia, serif\"><h4 style=\"color: crimson\">Normalising Postal Codes:</h4></font><font face=\"Georgia, serif\" style=\"color: darkcyan\"> Fixing postal codes was also a three step process:<ol> <li>Confirm it is a postal code</li> <li>Pass all the postal codes through a series of checks. If whitespace, extra digits or any basic discrepancy is found, update that postal code</li> <li>Lastly, send it through a validator that checks it is a six digit postal code. The validator returns a valid pin code. Otherwise, the pin code is collected in a list for further inspection</li></ol></font>\n",
    "\n",
    "<p><font face=\"Georgia, serif\" style=\"color: darkcyan\">The code used to normalize postal codes can be found <a href=\"update_pin_code.py\">here</a>. After processing the dataset with this code I was able to successfully resolve inconsistencies regarding pin codes.</font><ul><li><code style=\"color: indigo\">100006 --> 110006</code></li><li><code style=\"color: indigo\">1100002 --> 110002</code></li><li><code style=\"color: indigo\">2013010 --> 201301</code></li><li><code style=\"color: indigo\">110 021 --> 110021</code></li></ul></font></p>\n",
    "\n",
    "<font face=\"Georgia, serif\"><h4 style=\"color: crimson\">Normalising Phone Numbers:</h4></font><font face=\"Georgia, serif\" style=\"color: darkcyan\"> Phone numbers did not need much fixing. However, their inconsistencies needed to be normalied. I did this in two steps:<ol> <li>Confirm it is a phone number</li> <li>Return phone number after striping all their whitespaces and hyphens</li></ol></font>\n",
    "\n",
    "<p><font face=\"Georgia, serif\" style=\"color: darkcyan\">The code used to update phone numbers is <a href= \"update_phone_number.py\">here</a>. I was able to successfully update phone numbers after applying this code to the dataset.</font><ul><li><code style=\"color: indigo\">+91 11 3955 5000 --> +911139555000</code></li><li><code style=\"color: indigo\">+91-120-3830000 --> +911203830000</code></li><li><code style=\"color: indigo\">+91 11 4309 0000 --> +911143090000</code></li></ul></font></p>"
   ]
  },
  {
   "cell_type": "markdown",
   "metadata": {},
   "source": [
    "<font face= \"Georgia, serif\"><h4 style= \"color: darkgreen\">Reshaping Data And Writing Data To JSON</h4></font><font face=\"Georgia, serif\", style=\"color: slateblue\">Before ingesting the dataset into a database management system, the dataset had to be remodeled into proper data structures. Besides that, I also had to make sure that as the data gets remodeled, it simultaneously gets cleansed of the problems I had discussed earlier. Finally, because I chose MongoDB as my prefered database, I also had to write the data into a JSON format. By putting all the pieces of the codes together I was able to write the final project code linked <a href=\"final_code_mongodb.py\">here</a> and was able to pull this off. Here is an example of the JSON data from my dataset.</font><br>\n",
    "<code style=\"color: indigo\"> \n",
    "{'address': {'postcode': '110011', 'street': 'Aurangzeb Road'},\n",
    " 'created': {'changeset': '20864091',\n",
    "             'timestamp': '2014-03-02T13:16:13Z',\n",
    "             'uid': '1960718',\n",
    "             'user': 'apm-wa',\n",
    "             'version': '3'},\n",
    " 'id': '370584997',\n",
    " 'name': 'Claridges Hotel',\n",
    " 'operator': 'Claridges Hotels Pvt. Ltd.',\n",
    " 'phone': '+911139555000',\n",
    " 'pos': [28.6006254, 77.2165438],\n",
    " 'tourism': 'hotel',\n",
    " 'type': 'node',\n",
    " 'website': 'http://www.claridges.com/index.asp'}<code/>"
   ]
  },
  {
   "cell_type": "markdown",
   "metadata": {},
   "source": [
    "<font face=\"Georgia, serif\"><h4 style= \"color: darkcyan\">JSON File Sizes</h4></font>\n",
    "<font face=\"Georgia, serif\" style=\"color: yellowgreen\">After writing the data into JSON, I checked the size of the file. Below you will find the file sizes of all the files related to this project, printed in a tabular format.</font>"
   ]
  },
  {
   "cell_type": "code",
   "execution_count": 7,
   "metadata": {},
   "outputs": [
    {
     "name": "stdout",
     "output_type": "stream",
     "text": [
      "+----------+----------+\n",
      "|   FILE   |   SIZE   |\n",
      "+----------+----------+\n",
      "| Original | 716.5 MB |\n",
      "|  Sample  | 72.4 MB  |\n",
      "|   JSON   | 83.8 MB  |\n",
      "+----------+----------+\n"
     ]
    }
   ],
   "source": [
    "# check file size of all the files related to this project\n",
    "filesize = get_filesize(\"new-delhi_india.osm\") # file size in bytes\n",
    "samplesize = get_filesize(\"new_delhi_sample.osm\")\n",
    "jsonfile = get_filesize(\"new_delhi_sample.osm.json\")\n",
    "table = PT(field_names=['File', 'Size'], header_style='upper')\n",
    "table.add_row(['Original', convert_bytes(filesize)]) # file size converted to MB \n",
    "table.add_row(['Sample', convert_bytes(samplesize)])\n",
    "table.add_row(['JSON', convert_bytes(jsonfile)])\n",
    "print(table)"
   ]
  },
  {
   "cell_type": "markdown",
   "metadata": {},
   "source": [
    "<font face=\"Georgia, serif\"><h4 style= \"color: tomato\">Creating a MongoDB Database</h4></font>\n",
    "<font face=\"Georgia, serif\" style= \"color: darkblue\">After the dataset was cleansed, remodeled and formatted, it was ready to be ingested into MongoDB. I was able to import the dataset from the Terminal by typing <code style = \"color: green\">mongoimport --db delhiOSM --collection OSM_data &lt;new_delhi_sample.osm.json</code> command. Then, through Robo3T I was able confirm the validity of the data being in the system.</font>"
   ]
  },
  {
   "cell_type": "markdown",
   "metadata": {},
   "source": [
    "<font face=\"Georgia, serif\"><h4 style= \"color: mediumslateblue\">Queries</h4></font>\n",
    "<font face= \"Georgia, serif\" style= \"color: darkred;\">Some queries I ran with pymongo while MongoDB was running locally. I have also tried to present visualizations of statistical queries in a couple of cases.</font>"
   ]
  },
  {
   "cell_type": "code",
   "execution_count": 4,
   "metadata": {
    "collapsed": true
   },
   "outputs": [],
   "source": [
    "# MongoDB instance is running on the default host and port\n",
    "# connecting to the running mongod instance with MongoClient.\n",
    "client = MongoClient()"
   ]
  },
  {
   "cell_type": "code",
   "execution_count": 5,
   "metadata": {
    "collapsed": true
   },
   "outputs": [],
   "source": [
    "# calling the database\n",
    "db = client.delhiOSM"
   ]
  },
  {
   "cell_type": "code",
   "execution_count": 7,
   "metadata": {},
   "outputs": [
    {
     "name": "stdout",
     "output_type": "stream",
     "text": [
      "Quick stats about the database\n",
      " {'db': 'delhiOSM', 'collections': 1, 'views': 0, 'objects': 410188, 'avgObjSize': 232.72264668883537, 'dataSize': 95460037.0, 'storageSize': 28884992.0, 'numExtents': 0, 'indexes': 1, 'indexSize': 3850240.0, 'ok': 1.0}\n"
     ]
    }
   ],
   "source": [
    "# database stats\n",
    "stats = db.command({'dbstats': 1})\n",
    "print(\"Quick stats about the database\\n\",stats)"
   ]
  },
  {
   "cell_type": "code",
   "execution_count": 9,
   "metadata": {
    "collapsed": true
   },
   "outputs": [],
   "source": [
    "# calling the collection\n",
    "del_coll = db.OSM_data"
   ]
  },
  {
   "cell_type": "code",
   "execution_count": 11,
   "metadata": {},
   "outputs": [
    {
     "name": "stdout",
     "output_type": "stream",
     "text": [
      "Number of documents in the database 410188\n"
     ]
    }
   ],
   "source": [
    "# count of number of documents in the collection\n",
    "doc_count = del_coll.count()\n",
    "print(\"Number of documents in the database: {}\".format(doc_count))"
   ]
  },
  {
   "cell_type": "code",
   "execution_count": 12,
   "metadata": {},
   "outputs": [
    {
     "name": "stdout",
     "output_type": "stream",
     "text": [
      "Total Number of nodes: 340762\n"
     ]
    }
   ],
   "source": [
    "# count of all node type in the collection\n",
    "nodes_count = del_coll.find({\"type\" : \"node\"}).count()\n",
    "print(\"Total Number of nodes: {}\".format(nodes_count))"
   ]
  },
  {
   "cell_type": "code",
   "execution_count": 13,
   "metadata": {},
   "outputs": [
    {
     "name": "stdout",
     "output_type": "stream",
     "text": [
      "Total Number of ways: 69411\n"
     ]
    }
   ],
   "source": [
    "# count of all way type in the collection\n",
    "way_count = del_coll.find({\"type\" : \"way\"}).count()\n",
    "print(\"Total Number of ways: {}\".format(way_count))"
   ]
  },
  {
   "cell_type": "code",
   "execution_count": 14,
   "metadata": {},
   "outputs": [
    {
     "name": "stdout",
     "output_type": "stream",
     "text": [
      "Total Number of Unique Users: 818\n"
     ]
    }
   ],
   "source": [
    "# count of unique users\n",
    "uniq_user = del_coll.distinct(\"created.user\")\n",
    "print(\"Total Number of Unique Users: {}\".format(len(uniq_user)))"
   ]
  },
  {
   "cell_type": "code",
   "execution_count": 15,
   "metadata": {},
   "outputs": [
    {
     "name": "stdout",
     "output_type": "stream",
     "text": [
      "Top 10 ameneties\n",
      "            0                 1        2           3     4         5     6  \\\n",
      "_id    school  place_of_worship  parking  restaurant  bank  hospital  fuel   \n",
      "count     102                31       29          25    24        22    20   \n",
      "\n",
      "         7        8          9  \n",
      "_id    atm  college  fast_food  \n",
      "count   19       15         10  \n"
     ]
    }
   ],
   "source": [
    "# query: check top 10 amenities\n",
    "pipeline = [{\"$match\": {\"amenity\": {\"$exists\": True}}},\n",
    "                {\"$group\": {\"_id\": \"$amenity\", \"count\": {\"$sum\": 1}}},\n",
    "                {\"$sort\": {\"count\": -1}},\n",
    "                {\"$limit\": 10}]\n",
    "agg_lst = [data for data in del_coll.aggregate(pipeline)] # making a list \n",
    "df = pd.DataFrame(agg_lst) # converting the list of dicts into a dataframe\n",
    "print(\"Top 10 ameneties\")\n",
    "print(df.T) # printing a DataFrame"
   ]
  },
  {
   "cell_type": "code",
   "execution_count": 16,
   "metadata": {},
   "outputs": [
    {
     "name": "stdout",
     "output_type": "stream",
     "text": [
      "Plot of top 10 ameneties\n"
     ]
    },
    {
     "data": {
      "image/png": "[encoded data removed]",
      "text/plain": [
       "<matplotlib.figure.Figure at 0x10f31ff98>"
      ]
     },
     "metadata": {},
     "output_type": "display_data"
    }
   ],
   "source": [
    "# plot the top 10 amenities\n",
    "print(\"Plot of top 10 ameneties\")\n",
    "sns.set_style(\"whitegrid\") #set a whitegrid\n",
    "plot = sns.barplot(x=\"count\", y=\"_id\", data=df, palette=\"GnBu_d\")\n",
    "plot.set(xlabel =\"count\", ylabel=\"amenity\")\n",
    "plt.title(\"Bar chart of top 10 amenities\")\n",
    "plt.show(plot)\n",
    "plt.close()"
   ]
  },
  {
   "cell_type": "code",
   "execution_count": 17,
   "metadata": {},
   "outputs": [
    {
     "name": "stdout",
     "output_type": "stream",
     "text": [
      "Top 10 users\n",
      "              0          1         2         3        4       5         6  \\\n",
      "_id    Oberaffe  premkumar  saikumar  Naresh08  anushap  sdivya  anthony1   \n",
      "count     26656      16446     15963     13601    13338   12995     12564   \n",
      "\n",
      "                7              8         9  \n",
      "_id    himabindhu  sathishshetty  Apreethi  \n",
      "count       12315          12250     11338  \n"
     ]
    }
   ],
   "source": [
    "# query: check top 10 users\n",
    "pipeline = [{\"$match\": {\"created.user\": {\"$exists\": True}}},\n",
    "                {\"$group\": {\"_id\": \"$created.user\", \"count\": {\"$sum\": 1}}},\n",
    "                {\"$sort\": {\"count\": -1}},\n",
    "                {\"$limit\": 10}]\n",
    "agg_lst = [data for data in del_coll.aggregate(pipeline)] # making a list \n",
    "df = pd.DataFrame(agg_lst) # converting the list of dicts into a dataframe\n",
    "print(\"Top 10 users\")\n",
    "print(df.T) # printing a DataFrame"
   ]
  },
  {
   "cell_type": "code",
   "execution_count": 18,
   "metadata": {},
   "outputs": [
    {
     "name": "stdout",
     "output_type": "stream",
     "text": [
      "Plot of top 10 users\n"
     ]
    },
    {
     "data": {
      "image/png": "[encoded data removed]",
      "text/plain": [
       "<matplotlib.figure.Figure at 0x1126c7c88>"
      ]
     },
     "metadata": {},
     "output_type": "display_data"
    }
   ],
   "source": [
    "# plot top 10 users\n",
    "print(\"Plot of top 10 users\")\n",
    "sns.set_style(\"whitegrid\")\n",
    "plot = sns.barplot(x=\"count\", y=\"_id\", data=df, palette=\"GnBu_d\")\n",
    "plot.set(xlabel =\"count\", ylabel=\"user\")\n",
    "plt.title(\"Bar chart of top 10 users\")\n",
    "plt.show(plot)\n",
    "plt.close()"
   ]
  },
  {
   "cell_type": "markdown",
   "metadata": {
    "collapsed": true
   },
   "source": [
    "<font face=\"Georgia, serif\" style=\"color: magenta;\"><h4>Suggestions For Improvement</h4></font>\n",
    "<font face=\"Georgia, serif\" style=\" color: #663399;\">The OpenStreetMap map editors give their users all the tools needed to curate, edit and update a geo spatial region in a systematic way. However, it depends on who is sitting on the other end of the editor and using those tools. As OpenStreetMap is fully run by a community of volunteers, these users could end up being anybody from professional mapper, surveyors, GIS professional to just casual, enthusiastic users. In my opinion, knowing what kind of user is contributing to the data, can help curb inconsistencies in the data to some extent. Therefore, a very high level suggestion to improve the quality of data would be to categorise the users as casual or professional. Tagging the user as casual or professional could give a hint about who the user could be. For new users this kind of tagging can be done at the time of joining, while exiting users can update their user profiles with this information.</font><br>\n",
    "<br>\n",
    "<font face=\"Georgia, serif\" style=\" color: #663399;\">In all fairness, like a casual user a professional user too is likely to make an error. So, tagging alone can not certify the quality of data being fed into the system. However, what it can help in is to run basic statistics based on user tags. For example, someone analysing data of her region of interest could easily compute statistics based on contributions made by professional versus casual users. Furthermore, because entries can be traced against the user tags, bad entries can be flagged. A proportion of professional versus casual users responsible for such entries can then be computed. This information can then be shared on the OpenStreetMap blog, Users’ Diaries, forums etc. These statistics will help the community to learn more about itself and improve the system.</font><br> \n",
    "<br>\n",
    "<font face=\"Georgia, serif\" style=\"color: #663399;\">Another suggestion would be to emphasize the role of local contributors. Community meet ups and events should be organized to encourage contributions from people who have knowledge about their locality. Data mainatained and updated by such contributors are much likely to be accurate.</font><br>\n",
    "<br>\n",
    "<font face=\"Georgia, serif\" style=\" color: #663399;\">Which brings me to my final suggestion. Besides taking volunteers only for mapping, the OpenStreetMap foundation should also look into taking volunteers for promotional and advertising activities as well. Responsibilities for such volunteers could include:\n",
    "<ol>\n",
    "<li>Organising community meet ups</li><li>Preparing promotional material</li><li>Maintaining social media presence and Youtube channel</li><li>Orientating of new users towards ethical mapping practices</li><li>Urging technical users to make more mechanical edits than automated edits</li><li>Encouraging contributions from local contributors</li></ol></font><br>\n",
    "\n",
    "<font face=\"Georgia, serif\" style=\"color: magenta;\"><h4>Conclusion</h4></font>\n",
    "<font face=\"Georgia, serif\" style=\" color: #663399;\">While working on the New-Delhi OSM data, I observed incorrect entries, mispellings and other irregularities. I also observed that in some places data was throughly maintained while in others it was not quite so. These limitations made the dataset unreliable for direct use. Nonetheless, those error or irregularities where not terribly threating and after familiarising myself with the dataset I was able to normalise them. This entire process of understanding the XML data structure, observing the errors, cleaning those errors, reshaping data structures, writing those structures into a JSON, ingesting the JSON into a database and finally making queries from that database gave me a chance to understand data wrangling quite intimately. Through this project I also got introduced to the OpenStreetMaps initiative. I felt that OpenStreetMaps is a tremendous initiative. I think, they have a great community of really smart contributors all around the world and their contributions deserve a big applause. They have set up a great base for themselves and with a little more funding and some time this initiative is going to go really far.</font>"
   ]
  },
  {
   "cell_type": "code",
   "execution_count": null,
   "metadata": {
    "collapsed": true
   },
   "outputs": [],
   "source": []
  }
 ],
 "metadata": {
  "kernelspec": {
   "display_name": "Python 3",
   "language": "python",
   "name": "python3"
  },
  "language_info": {
   "codemirror_mode": {
    "name": "ipython",
    "version": 3
   },
   "file_extension": ".py",
   "mimetype": "text/x-python",
   "name": "python",
   "nbconvert_exporter": "python",
   "pygments_lexer": "ipython3",
   "version": "3.6.3"
  }
 },
 "nbformat": 4,
 "nbformat_minor": 2
}
